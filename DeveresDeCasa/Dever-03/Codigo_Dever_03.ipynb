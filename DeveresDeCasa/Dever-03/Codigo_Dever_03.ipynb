{
  "cells": [
    {
      "cell_type": "markdown",
      "metadata": {
        "colab_type": "text",
        "id": "view-in-github"
      },
      "source": [
        "<a href=\"https://colab.research.google.com/github/lucaslourenco91/aprendizagemMaquina/blob/main/Codigo_Dever_03.ipynb\" target=\"_parent\"><img src=\"https://colab.research.google.com/assets/colab-badge.svg\" alt=\"Open In Colab\"/></a>"
      ]
    },
    {
      "cell_type": "code",
      "execution_count": null,
      "metadata": {
        "colab": {
          "base_uri": "https://localhost:8080/"
        },
        "id": "WI04HGCsjfSz",
        "outputId": "be94cacd-1ed2-452b-9c6e-6ac21dcb8157"
      },
      "outputs": [],
      "source": [
        "import csv\n",
        "\n",
        "# Criar e escrever no arquivo CSV\n",
        "dados = [['Nome', 'Idade'], ['Lucas', 25], ['Mayra', 30], ['Sarah', 22], ['Isaac', 28], ['Alice', 32]]\n",
        "\n",
        "with open('dados.csv', mode='w', newline='', encoding='utf-8') as file:\n",
        "    writer = csv.writer(file)\n",
        "    writer.writerows(dados)\n",
        "\n",
        "# Ler o arquivo e armazenar os dados em uma lista\n",
        "dados_lista = []\n",
        "with open('dados.csv', mode='r', encoding='utf-8') as file:\n",
        "    reader = csv.reader(file)\n",
        "    next(reader)  # Pular o cabeçalho\n",
        "    for row in reader:\n",
        "        dados_lista.append({'Nome': row[0], 'Idade': int(row[1])})\n",
        "\n",
        "# Pedir um nome ao usuário\n",
        "nome_digitado = input(\"Digite um nome: \")\n",
        "\n",
        "# Buscar o nome na lista\n",
        "pessoa = next((p for p in dados_lista if p['Nome'].lower() == nome_digitado.lower()), None)\n",
        "\n",
        "if pessoa:\n",
        "    idade = pessoa['Idade']\n",
        "    maior_idade = max(dados_lista, key=lambda p: p['Idade'])['Idade']\n",
        "\n",
        "    if idade == maior_idade:\n",
        "        print(f\"{nome_digitado} tem {idade} anos, é a pessoa mais velha da lista.\")\n",
        "    else:\n",
        "        print(f\"{nome_digitado} tem {idade} anos, não é a pessoa mais velha da lista.\")\n",
        "else:\n",
        "    print(\"Nome não encontrado.\")\n"
      ]
    }
  ],
  "metadata": {
    "colab": {
      "authorship_tag": "ABX9TyPSurd50sKRaKJdPKhwkKqT",
      "include_colab_link": true,
      "provenance": []
    },
    "kernelspec": {
      "display_name": "Python 3",
      "name": "python3"
    },
    "language_info": {
      "codemirror_mode": {
        "name": "ipython",
        "version": 3
      },
      "file_extension": ".py",
      "mimetype": "text/x-python",
      "name": "python",
      "nbconvert_exporter": "python",
      "pygments_lexer": "ipython3",
      "version": "3.12.6"
    }
  },
  "nbformat": 4,
  "nbformat_minor": 0
}
