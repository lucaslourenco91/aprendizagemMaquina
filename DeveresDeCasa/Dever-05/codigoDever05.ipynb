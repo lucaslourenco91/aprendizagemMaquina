{
  "nbformat": 4,
  "nbformat_minor": 0,
  "metadata": {
    "colab": {
      "provenance": [],
      "toc_visible": true,
      "authorship_tag": "ABX9TyMDnfydEW3vZrdT3ibHmPg3",
      "include_colab_link": true
    },
    "kernelspec": {
      "name": "python3",
      "display_name": "Python 3"
    },
    "language_info": {
      "name": "python"
    }
  },
  "cells": [
    {
      "cell_type": "markdown",
      "metadata": {
        "id": "view-in-github",
        "colab_type": "text"
      },
      "source": [
        "<a href=\"https://colab.research.google.com/github/lucaslourenco91/aprendizagemMaquina/blob/main/codigoDever05.ipynb\" target=\"_parent\"><img src=\"https://colab.research.google.com/assets/colab-badge.svg\" alt=\"Open In Colab\"/></a>"
      ]
    },
    {
      "cell_type": "code",
      "execution_count": 4,
      "metadata": {
        "colab": {
          "base_uri": "https://localhost:8080/"
        },
        "id": "Fpm3FIXas5DD",
        "outputId": "b62451a8-829f-4fcc-ac92-f2180153f3fe"
      },
      "outputs": [
        {
          "output_type": "stream",
          "name": "stdout",
          "text": [
            "IMC 16 é classificado como obeso? False\n"
          ]
        },
        {
          "output_type": "stream",
          "name": "stderr",
          "text": [
            "/usr/local/lib/python3.11/dist-packages/sklearn/utils/validation.py:2739: UserWarning: X does not have valid feature names, but DecisionTreeClassifier was fitted with feature names\n",
            "  warnings.warn(\n"
          ]
        }
      ],
      "source": [
        "import pandas as pd\n",
        "from sklearn.tree import DecisionTreeClassifier\n",
        "\n",
        "#criando o CSV\n",
        "data = {\n",
        "    \"IMC\": [16, 18, 20, 22, 24, 26, 28, 30, 32, 34],\n",
        "    \"Obeso\": [False, False, False, False, False, False, True, True, True, True]\n",
        "}\n",
        "\n",
        "df = pd.DataFrame(data)\n",
        "df.to_csv(\"imc_obesidade.csv\", index=False)\n",
        "\n",
        "# Treinando a maquina\n",
        "X = df[[\"IMC\"]]\n",
        "y = df[\"Obeso\"]\n",
        "model = DecisionTreeClassifier()\n",
        "model.fit(X, y)\n",
        "\n",
        "\n",
        "imc_novo = [[36]]\n",
        "predicao = model.predict(imc_novo)[0]\n",
        "\n",
        "print(f\"IMC {imc_novo[0][0]} é classificado como obeso? {predicao}\")\n",
        "\n"
      ]
    }
  ]
}