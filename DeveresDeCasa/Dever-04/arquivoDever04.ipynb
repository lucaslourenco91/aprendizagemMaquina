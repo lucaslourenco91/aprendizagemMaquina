{
  "nbformat": 4,
  "nbformat_minor": 0,
  "metadata": {
    "colab": {
      "provenance": [],
      "authorship_tag": "ABX9TyPe3UXxRlmhucSwoew9aWzE",
      "include_colab_link": true
    },
    "kernelspec": {
      "name": "python3",
      "display_name": "Python 3"
    },
    "language_info": {
      "name": "python"
    }
  },
  "cells": [
    {
      "cell_type": "markdown",
      "metadata": {
        "id": "view-in-github",
        "colab_type": "text"
      },
      "source": [
        "<a href=\"https://colab.research.google.com/github/lucaslourenco91/aprendizagemMaquina/blob/main/arquivoDever04.ipynb\" target=\"_parent\"><img src=\"https://colab.research.google.com/assets/colab-badge.svg\" alt=\"Open In Colab\"/></a>"
      ]
    },
    {
      "cell_type": "code",
      "execution_count": 1,
      "metadata": {
        "colab": {
          "base_uri": "https://localhost:8080/"
        },
        "id": "ONS7NhYkFP5s",
        "outputId": "68b720f3-e71c-4bb9-bd3b-554c4ba43b2d"
      },
      "outputs": [
        {
          "output_type": "stream",
          "name": "stdout",
          "text": [
            "     Fruta  Quantidade\n",
            "0     maçã          73\n",
            "1   banana          30\n",
            "2  laranja          85\n",
            "3      uva          47\n",
            "4    melão          13\n",
            "5    mamão          23\n"
          ]
        }
      ],
      "source": [
        "import random\n",
        "import pandas as pd\n",
        "\n",
        "\n",
        "frutas = [\"maçã\", \"banana\", \"laranja\", \"uva\", \"maçã\", \"melão\", \"mamão\", \"banana\"]\n",
        "\n",
        "# Criando o arquivo\n",
        "with open(\"minhas_frutas.txt\", \"w\", encoding=\"utf-8\") as arquivo:\n",
        "    for fruta in frutas:\n",
        "        quantidade = random.randint(0, 100)\n",
        "        arquivo.write(f\"{fruta},{quantidade}\\n\")\n",
        "\n",
        "# lendo o arquivo\n",
        "dados = {}\n",
        "\n",
        "with open(\"minhas_frutas.txt\", \"r\", encoding=\"utf-8\") as arquivo:\n",
        "    for linha in arquivo:\n",
        "        fruta, quantidade = linha.strip().split(\",\")\n",
        "        quantidade = int(quantidade)\n",
        "        if fruta in dados:\n",
        "            dados[fruta] += quantidade\n",
        "        else:\n",
        "            dados[fruta] = quantidade\n",
        "\n",
        "# exibir o df\n",
        "df = pd.DataFrame(list(dados.items()), columns=[\"Fruta\", \"Quantidade\"])\n",
        "print(df)\n"
      ]
    }
  ]
}