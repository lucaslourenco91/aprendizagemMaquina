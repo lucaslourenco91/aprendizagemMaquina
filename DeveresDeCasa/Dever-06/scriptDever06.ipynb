{
  "nbformat": 4,
  "nbformat_minor": 0,
  "metadata": {
    "colab": {
      "provenance": [],
      "authorship_tag": "ABX9TyP56AK8VXBiMddpftDMwxDz",
      "include_colab_link": true
    },
    "kernelspec": {
      "name": "python3",
      "display_name": "Python 3"
    },
    "language_info": {
      "name": "python"
    }
  },
  "cells": [
    {
      "cell_type": "markdown",
      "metadata": {
        "id": "view-in-github",
        "colab_type": "text"
      },
      "source": [
        "<a href=\"https://colab.research.google.com/github/lucaslourenco91/aprendizagemMaquina/blob/main/scriptDever06.ipynb\" target=\"_parent\"><img src=\"https://colab.research.google.com/assets/colab-badge.svg\" alt=\"Open In Colab\"/></a>"
      ]
    },
    {
      "cell_type": "code",
      "execution_count": 3,
      "metadata": {
        "colab": {
          "base_uri": "https://localhost:8080/"
        },
        "id": "popj2cwkTSjG",
        "outputId": "f8dba51b-7f82-4a29-dd25-a9e2c55fe557"
      },
      "outputs": [
        {
          "output_type": "stream",
          "name": "stdout",
          "text": [
            "Digite as características da flor:\n",
            "Comprimento da sépala (cm): 3\n",
            "Largura da sépala (cm): 3\n",
            "Comprimento da pétala (cm): 3\n",
            "Largura da pétala (cm): 3\n",
            "A flor prevista é da espécie: versicolor\n"
          ]
        }
      ],
      "source": [
        "from sklearn.datasets import load_iris\n",
        "from sklearn.model_selection import train_test_split\n",
        "from sklearn.neighbors import KNeighborsClassifier\n",
        "\n",
        "# Carregar a base de dados\n",
        "iris = load_iris()\n",
        "X = iris.data\n",
        "y = iris.target\n",
        "\n",
        "# Dividindo entre treino e teste\n",
        "X_train, X_test, y_train, y_test = train_test_split(X, y, test_size=0.3, random_state=42)\n",
        "\n",
        "# modelo\n",
        "knn = KNeighborsClassifier(n_neighbors=3)\n",
        "knn.fit(X_train, y_train)\n",
        "\n",
        "# entrada de dados\n",
        "print(\"Digite as características da flor:\")\n",
        "sepala_comprimento = float(input(\"Comprimento da sépala (cm): \"))\n",
        "sepala_largura = float(input(\"Largura da sépala (cm): \"))\n",
        "petala_comprimento = float(input(\"Comprimento da pétala (cm): \"))\n",
        "petala_largura = float(input(\"Largura da pétala (cm): \"))\n",
        "\n",
        "# lista\n",
        "new_flower3 = [[sepala_comprimento, sepala_largura, petala_comprimento, petala_largura]]\n",
        "\n",
        "# Faz a previsão\n",
        "prediction = knn.predict(new_flower)\n",
        "\n",
        "# Mostra a espécie prevista\n",
        "species = iris.target_names[prediction[0]]\n",
        "print(f\"A flor prevista é da espécie: {species}\")\n"
      ]
    }
  ]
}