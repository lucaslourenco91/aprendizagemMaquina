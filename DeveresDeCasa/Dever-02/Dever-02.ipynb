{
  "nbformat": 4,
  "nbformat_minor": 0,
  "metadata": {
    "colab": {
      "provenance": [],
      "authorship_tag": "ABX9TyO8GY2CkSy+3lWP9mukNJAQ",
      "include_colab_link": true
    },
    "kernelspec": {
      "name": "python3",
      "display_name": "Python 3"
    },
    "language_info": {
      "name": "python"
    }
  },
  "cells": [
    {
      "cell_type": "markdown",
      "metadata": {
        "id": "view-in-github",
        "colab_type": "text"
      },
      "source": [
        "<a href=\"https://colab.research.google.com/github/lucaslourenco91/aprendizagemMaquina/blob/main/Dever-02.ipynb\" target=\"_parent\"><img src=\"https://colab.research.google.com/assets/colab-badge.svg\" alt=\"Open In Colab\"/></a>"
      ]
    },
    {
      "cell_type": "code",
      "execution_count": 1,
      "metadata": {
        "colab": {
          "base_uri": "https://localhost:8080/"
        },
        "id": "SaF3IyiMgOeZ",
        "outputId": "fd8bdeeb-3347-4d7d-f24a-fbf98f313b83"
      },
      "outputs": [
        {
          "output_type": "stream",
          "name": "stdout",
          "text": [
            "Digite uma frase: A aula de aprendizagem de maquina é massa \n",
            "\n",
            "RESULTADOS DA ANÁLISE:\n",
            "Número de caracteres: 41\n",
            "Número de palavras: 8\n",
            "Maior palavra: aprendizagem\n",
            "Frase invertida por caracteres: assam é aniuqam ed megazidnerpa ed alua A\n",
            "Frase invertida por palavras: massa é maquina de aprendizagem de aula A\n",
            "Frase em maiúsculas: A AULA DE APRENDIZAGEM DE MAQUINA É MASSA\n",
            "Frase em minúsculas: a aula de aprendizagem de maquina é massa\n",
            "Tupla de palavras: ('A', 'aula', 'de', 'aprendizagem', 'de', 'maquina', 'é', 'massa')\n"
          ]
        }
      ],
      "source": [
        "def obter_frase():\n",
        "    \"\"\"\n",
        "    Solicita ao usuário que insira uma frase e verifica se a entrada não está vazia.\n",
        "    \"\"\"\n",
        "    while True:\n",
        "        frase = input(\"Digite uma frase: \").strip()\n",
        "        if frase:\n",
        "            return frase\n",
        "        print(\"Entrada inválida. Por favor, insira uma frase válida.\")\n",
        "\n",
        "def analisar_frase(frase):\n",
        "    \"\"\"\n",
        "    Realiza a análise da frase fornecida pelo usuário.\n",
        "    \"\"\"\n",
        "    num_caracteres = len(frase)\n",
        "    palavras = frase.split()\n",
        "    num_palavras = len(palavras)\n",
        "    maior_palavra = max(palavras, key=len) if palavras else \"\"\n",
        "\n",
        "    frase_invertida_caracteres = frase[::-1]\n",
        "    frase_invertida_palavras = \" \".join(palavras[::-1])\n",
        "\n",
        "    frase_maiuscula = frase.upper()\n",
        "    frase_minuscula = frase.lower()\n",
        "\n",
        "    tupla_palavras = tuple(palavras)\n",
        "\n",
        "    return {\n",
        "        \"num_caracteres\": num_caracteres,\n",
        "        \"num_palavras\": num_palavras,\n",
        "        \"maior_palavra\": maior_palavra,\n",
        "        \"frase_invertida_caracteres\": frase_invertida_caracteres,\n",
        "        \"frase_invertida_palavras\": frase_invertida_palavras,\n",
        "        \"frase_maiuscula\": frase_maiuscula,\n",
        "        \"frase_minuscula\": frase_minuscula,\n",
        "        \"tupla_palavras\": tupla_palavras\n",
        "    }\n",
        "\n",
        "def exibir_resultados(resultados):\n",
        "    \"\"\"\n",
        "    Exibe os resultados da análise de forma formatada.\n",
        "    \"\"\"\n",
        "    print(\"\\nRESULTADOS DA ANÁLISE:\")\n",
        "    print(f\"Número de caracteres: {resultados['num_caracteres']}\")\n",
        "    print(f\"Número de palavras: {resultados['num_palavras']}\")\n",
        "    print(f\"Maior palavra: {resultados['maior_palavra']}\")\n",
        "    print(f\"Frase invertida por caracteres: {resultados['frase_invertida_caracteres']}\")\n",
        "    print(f\"Frase invertida por palavras: {resultados['frase_invertida_palavras']}\")\n",
        "    print(f\"Frase em maiúsculas: {resultados['frase_maiuscula']}\")\n",
        "    print(f\"Frase em minúsculas: {resultados['frase_minuscula']}\")\n",
        "    print(f\"Tupla de palavras: {resultados['tupla_palavras']}\")\n",
        "\n",
        "# Fluxo principal do programa\n",
        "if __name__ == \"__main__\":\n",
        "    frase_usuario = obter_frase()\n",
        "    resultados_analise = analisar_frase(frase_usuario)\n",
        "    exibir_resultados(resultados_analise)\n"
      ]
    }
  ]
}